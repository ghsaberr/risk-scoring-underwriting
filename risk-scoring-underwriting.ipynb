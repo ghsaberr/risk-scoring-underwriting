{
 "cells": [
  {
   "cell_type": "markdown",
   "id": "e1bba22f-d282-49c4-a0d3-7e6ad50979da",
   "metadata": {},
   "source": [
    "# Risk Scoring & Underwriting\n",
    "Risk Scoring and Underwriting are critical components in the financial and insurance industries, particularly in the evaluation and management of risk associated with lending, insurance policies, or other financial products.\n",
    "## Data Integration & Exploration\n"
   ]
  },
  {
   "cell_type": "code",
   "execution_count": null,
   "id": "6077b539-7576-4280-ade8-93b9727b036f",
   "metadata": {},
   "outputs": [],
   "source": [
    "import pandas as pd\n",
    "import numpy as np\n",
    "import seaborn as sns\n",
    "import matplotlib.pyplot as plt\n",
    "from sklearn.preprocessing import StandardScaler, OneHotEncoder\n",
    "from sklearn.impute import SimpleImputer\n",
    "from sklearn.pipeline import Pipeline\n",
    "from sklearn.compose import ColumnTransformer\n",
    "\n",
    "\n",
    "class ARDPreprocessor:\n",
    "    \"\"\"\n",
    "    Automated Risk Data (ARD) Preprocessing Module\n",
    "    Handles missing values, encodes categorical variables, and scales numerical features.\n",
    "    \"\"\"\n",
    "    def __init__(self):\n",
    "        self.num_imputer = SimpleImputer(strategy='median')\n",
    "        self.cat_imputer = SimpleImputer(strategy='most_frequent')\n",
    "        self.scaler = StandardScaler()\n",
    "        self.encoder = OneHotEncoder(handle_unknown='ignore')\n",
    "        self.preprocessor = None\n",
    "    \n",
    "    def fit(self, df, numeric_features, categorical_features):\n",
    "        numeric_pipeline = Pipeline([\n",
    "            ('imputer', self.num_imputer),\n",
    "            ('scaler', self.scaler)\n",
    "        ])\n",
    "        categorical_pipeline = Pipeline([\n",
    "            ('imputer', self.cat_imputer),\n",
    "            ('encoder', self.encoder)\n",
    "        ])\n",
    "        self.preprocessor = ColumnTransformer([\n",
    "            ('num', numeric_pipeline, numeric_features),\n",
    "            ('cat', categorical_pipeline, categorical_features)\n",
    "        ])\n",
    "        self.preprocessor.fit(df)\n",
    "    \n",
    "    def transform(self, df):\n",
    "        return self.preprocessor.transform(df)\n",
    "    \n",
    "    def fit_transform(self, df, numeric_features, categorical_features):\n",
    "        self.fit(df, numeric_features, categorical_features)\n",
    "        return self.transform(df)"
   ]
  }
 ],
 "metadata": {
  "kernelspec": {
   "display_name": "Python 3 (ipykernel)",
   "language": "python",
   "name": "python3"
  },
  "language_info": {
   "codemirror_mode": {
    "name": "ipython",
    "version": 3
   },
   "file_extension": ".py",
   "mimetype": "text/x-python",
   "name": "python",
   "nbconvert_exporter": "python",
   "pygments_lexer": "ipython3",
   "version": "3.13.2"
  }
 },
 "nbformat": 4,
 "nbformat_minor": 5
}
